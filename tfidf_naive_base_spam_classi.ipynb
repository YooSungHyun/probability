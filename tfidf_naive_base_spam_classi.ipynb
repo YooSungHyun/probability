{
 "cells": [
  {
   "cell_type": "code",
   "execution_count": 1,
   "metadata": {},
   "outputs": [
    {
     "name": "stdout",
     "output_type": "stream",
     "text": [
      "['award', 'contact', 'free', 'get', 'lottery', 'me', 'scholarship', 'ticket', 'to', 'won', 'you']\n",
      "[[0, 0, 1, 0, 1, 1, 0, 0, 0, 0, 0], [0, 0, 2, 1, 0, 0, 0, 0, 0, 0, 1], [0, 0, 1, 0, 0, 0, 1, 0, 0, 0, 1], [0, 1, 1, 0, 0, 1, 0, 0, 1, 0, 0], [1, 0, 0, 0, 0, 0, 0, 0, 0, 1, 1], [0, 0, 0, 0, 1, 0, 0, 1, 0, 0, 1]]\n",
      "['award', 'contact', 'free', 'get', 'lottery', 'me', 'scholarship', 'ticket', 'to', 'won', 'you']\n",
      "[1.0986122886681098, 1.0986122886681098, 0.1823215567939546, 1.0986122886681098, 0.6931471805599453, 0.6931471805599453, 1.0986122886681098, 1.0986122886681098, 1.0986122886681098, 1.0986122886681098, 0.1823215567939546]\n",
      "['award', 'contact', 'free', 'get', 'lottery', 'me', 'scholarship', 'ticket', 'to', 'won', 'you']\n",
      "[[0.0, 0.0, 0.1823215567939546, 0.0, 0.6931471805599453, 0.6931471805599453, 0.0, 0.0, 0.0, 0.0, 0.0], [0.0, 0.0, 0.3646431135879092, 1.0986122886681098, 0.0, 0.0, 0.0, 0.0, 0.0, 0.0, 0.1823215567939546], [0.0, 0.0, 0.1823215567939546, 0.0, 0.0, 0.0, 1.0986122886681098, 0.0, 0.0, 0.0, 0.1823215567939546], [0.0, 1.0986122886681098, 0.1823215567939546, 0.0, 0.0, 0.6931471805599453, 0.0, 0.0, 1.0986122886681098, 0.0, 0.0], [1.0986122886681098, 0.0, 0.0, 0.0, 0.0, 0.0, 0.0, 0.0, 0.0, 1.0986122886681098, 0.1823215567939546], [0.0, 0.0, 0.0, 0.0, 0.6931471805599453, 0.0, 0.0, 1.0986122886681098, 0.0, 0.0, 0.1823215567939546]]\n"
     ]
    }
   ],
   "source": [
    "docs = ['me free lottery','free get free you','you free scholarship','free to contact me','you won award','you ticket lottery']\n",
    "label = ['Y','Y','N','N','N','Y']\n",
    "vocab = list(set(w for doc in docs for w in doc.split()))\n",
    "vocab.sort()\n",
    "\n",
    "N = len(docs) # 총 문서의 수\n",
    "\n",
    "from math import log\n",
    "\n",
    "def tf(t, d):\n",
    "    return d.count(t)\n",
    "\n",
    "def idf(t):\n",
    "    df = 0\n",
    "    for doc in docs:\n",
    "        df += t in doc\n",
    "    return log(N/(df + 1))\n",
    "\n",
    "def tfidf(t, d):\n",
    "    return tf(t,d)* idf(t)\n",
    "\n",
    "tf_result = []\n",
    "for i in range(N): # 각 문서에 대해서 아래 명령을 수행\n",
    "    tf_result.append([])\n",
    "    d = docs[i]\n",
    "    for j in range(len(vocab)):\n",
    "        t = vocab[j]        \n",
    "        tf_result[-1].append(tf(t, d))\n",
    "print(vocab)\n",
    "print(tf_result)\n",
    "\n",
    "idf_result = []\n",
    "for j in range(len(vocab)):\n",
    "    t = vocab[j]\n",
    "    idf_result.append(idf(t))\n",
    "    \n",
    "print(vocab)\n",
    "print(idf_result)\n",
    "\n",
    "tfidf_result = []\n",
    "for i in range(N):\n",
    "    tfidf_result.append([])\n",
    "    d = docs[i]\n",
    "    for j in range(len(vocab)):\n",
    "        t = vocab[j]\n",
    "\n",
    "        tfidf_result[-1].append(tfidf(t,d))\n",
    "\n",
    "print(vocab)\n",
    "print(tfidf_result)"
   ]
  },
  {
   "cell_type": "code",
   "execution_count": 2,
   "metadata": {},
   "outputs": [],
   "source": [
    "import collections\n",
    "label_cnt = collections.Counter(label)\n",
    "\n",
    "p_label = collections.defaultdict(float)\n",
    "for key in label_cnt.keys():\n",
    "    p_label[key] = label_cnt[key]/len(label)"
   ]
  },
  {
   "cell_type": "code",
   "execution_count": 3,
   "metadata": {},
   "outputs": [],
   "source": [
    "input_text = ['you','free','lottery']\n",
    "output_dict = collections.defaultdict(float)\n",
    "\n",
    "for idx, item in enumerate(label):\n",
    "    for label_word in p_label.keys():\n",
    "        for i in range(len(input_text)):\n",
    "            if item==label_word:\n",
    "                output_dict[label_word] = sum(tfidf_result[idx]) + output_dict[label_word]\n",
    "                output_dict[str(i)+'_'+label_word] = tfidf_result[idx][vocab.index(input_text[i])] + output_dict[str(i)+'_'+label_word]"
   ]
  },
  {
   "cell_type": "code",
   "execution_count": 4,
   "metadata": {},
   "outputs": [],
   "source": [
    "output = collections.defaultdict(lambda : 1.0)\n",
    "for label_word in p_label.keys():\n",
    "    for _, value in enumerate(output_dict):\n",
    "        if value in p_label.keys():\n",
    "            continue\n",
    "        if value.split('_')[1] == label_word:\n",
    "            output[label_word] = (output_dict[value]+1/output_dict[label_word]+1) * output[label_word]\n",
    "    output[label_word] = p_label[label_word]* output[label_word]"
   ]
  },
  {
   "cell_type": "code",
   "execution_count": 5,
   "metadata": {},
   "outputs": [
    {
     "name": "stdout",
     "output_type": "stream",
     "text": [
      "Spam!!!\n"
     ]
    }
   ],
   "source": [
    "if max(output):\n",
    "    print('Spam!!!')"
   ]
  }
 ],
 "metadata": {
  "kernelspec": {
   "display_name": "Python 3",
   "language": "python",
   "name": "python3"
  },
  "language_info": {
   "codemirror_mode": {
    "name": "ipython",
    "version": 3
   },
   "file_extension": ".py",
   "mimetype": "text/x-python",
   "name": "python",
   "nbconvert_exporter": "python",
   "pygments_lexer": "ipython3",
   "version": "3.8.10"
  },
  "varInspector": {
   "cols": {
    "lenName": 16,
    "lenType": 16,
    "lenVar": 40
   },
   "kernels_config": {
    "python": {
     "delete_cmd_postfix": "",
     "delete_cmd_prefix": "del ",
     "library": "var_list.py",
     "varRefreshCmd": "print(var_dic_list())"
    },
    "r": {
     "delete_cmd_postfix": ") ",
     "delete_cmd_prefix": "rm(",
     "library": "var_list.r",
     "varRefreshCmd": "cat(var_dic_list()) "
    }
   },
   "types_to_exclude": [
    "module",
    "function",
    "builtin_function_or_method",
    "instance",
    "_Feature"
   ],
   "window_display": false
  }
 },
 "nbformat": 4,
 "nbformat_minor": 4
}

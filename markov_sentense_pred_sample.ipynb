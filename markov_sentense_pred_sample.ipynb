{
 "cells": [
  {
   "cell_type": "code",
   "execution_count": null,
   "metadata": {
    "collapsed": true
   },
   "outputs": [],
   "source": [
    "# mecab과 konlpy는 설치 되어있어야 합니다.\n",
    "# 이후에 numpy도 필요하긴 해요.\n",
    "# 행렬곱이나 전치, list로 할라니 성능도 안나고 문제네요...\n",
    "from konlpy.tag import Mecab, Okt\n",
    "\n",
    "with open(\"sample.txt\", \"rt\", encoding='utf-8') as f:\n",
    "    text_list = f.readlines()\n",
    "\n",
    "def clean_text(text):\n",
    "    cleaned_text = re.sub('[a-zA-z0-9]','',text)\n",
    "    cleaned_text = re.sub('[\\{\\}\\[\\]\\/?,;:|\\‘’)*~`!^\\-_+<>@\\#$%&\\\\\\=\\(\\'\\\"\\♥\\♡\\ㅋ\\ㅠ\\ㅜ\\ㄱ\\ㅎ\\ㄲ\\ㅡ]','',cleaned_text)\n",
    "    return cleaned_text\n",
    "\n",
    "# 일단 영어나 숫자, 특수문자는 빼고 생각해봅시다 우리.\n",
    "text_list = list(map(lambda x :Okt().normalize(clean_text(x)).replace('  ',' ').replace('\\n',''), text_list))"
   ]
  },
  {
   "cell_type": "code",
   "execution_count": null,
   "metadata": {
    "collapsed": true
   },
   "outputs": [],
   "source": [
    "# 형태소는 제가 제일 좋아하는 mecab으로!\n",
    "mecab = Mecab()\n",
    "morphs_list = list(map(lambda x:mecab.morphs(x), text_list))"
   ]
  },
  {
   "cell_type": "code",
   "execution_count": null,
   "metadata": {
    "collapsed": true
   },
   "outputs": [],
   "source": [
    "# vocab dict을 만들건데, 일단은 count도 중요할까 싶어서 이렇게 짜봤습니다.\n",
    "import collections\n",
    "morphs_dict = collections.Counter()\n",
    "for doc in morphs_list:\n",
    "    morphs_dict.update(doc)\n",
    "morphs_dict = dict(sorted(morphs_dict.items()))\n",
    "vocab_list = list(morphs_dict.keys())"
   ]
  },
  {
   "cell_type": "code",
   "execution_count": null,
   "metadata": {
    "collapsed": true
   },
   "outputs": [],
   "source": [
    "# 마르코프 = 현재 상태만이 미래에 영향을 미친다!\n",
    "markov_dict = collections.defaultdict(list)\n",
    "for i in range(len(morphs_list)):\n",
    "    for j in range(len(morphs_list[i])-1):\n",
    "        markov_dict[morphs_list[i][j]].append(morphs_list[i][j+1]) "
   ]
  },
  {
   "cell_type": "code",
   "execution_count": null,
   "metadata": {
    "collapsed": true
   },
   "outputs": [],
   "source": [
    "# 확률을 구하기 위한 일단 숫자셈\n",
    "for key in markov_dict:\n",
    "    markov_counter = collections.Counter()\n",
    "    markov_counter.update(markov_dict[key])\n",
    "    markov_dict[key]=dict(markov_counter)"
   ]
  },
  {
   "cell_type": "code",
   "execution_count": null,
   "metadata": {
    "collapsed": true
   },
   "outputs": [],
   "source": [
    "# transition 배열을 나중에 만들기 위해, 없는 vocab에 대해서 0으로 채우고\n",
    "# transition이 pandas 형태가 아니기 때문에, vocab_list와 1:1 index mapping을 위해서 동일하게 정렬을 해줍니다.\n",
    "# transition은 dict X dict 정방 형태이므로, key도 value도 전부 order 해줘야 예외가 안생깁니다.\n",
    "for vocab in vocab_list:\n",
    "    for markov in markov_dict.keys():\n",
    "        try:\n",
    "            markov_dict[markov][vocab] = markov_dict[markov][vocab]\n",
    "        except KeyError:\n",
    "            markov_dict[markov][vocab]=0\n",
    "markov_dict = dict(sorted(markov_dict.items()))\n",
    "for markov in markov_dict.keys():\n",
    "    markov_dict[markov] = dict(sorted(markov_dict[markov].items()))"
   ]
  },
  {
   "cell_type": "code",
   "execution_count": null,
   "metadata": {
    "collapsed": true
   },
   "outputs": [],
   "source": [
    "# 현재 상태와 곱해서 뭔가 다음에 나올 문자열에 대한 확률을 보고 싶을 수도 있으니까 한번 transition도 만들고\n",
    "# 현재 상태도 곱해봅시다!\n",
    "transition = list()\n",
    "for i in markov_dict.keys():\n",
    "    transition.append(list(map(lambda x:x/sum(markov_dict[i].values()), markov_dict[i].values())))"
   ]
  },
  {
   "cell_type": "code",
   "execution_count": null,
   "metadata": {
    "collapsed": true
   },
   "outputs": [],
   "source": [
    "# 문장은 '.'로 끝난다고 생각하고, 그냥 랜덤으로 선택하면서 문장을 만들어보자\n",
    "# 뭐 다만 그나마 랜덤으로 선택할때, 좀 많이 나올만한 애들로 선택해볼까?\n",
    "def make_sentence(input_text):\n",
    "    import random\n",
    "    next_text = input_text\n",
    "    whole_word = input_text\n",
    "    while next_text!='.':\n",
    "        random_list = list()\n",
    "        random_weight = list()\n",
    "        for i, val in markov_dict[next_text].items():\n",
    "            if val>0:\n",
    "                random_list.append(i)\n",
    "                random_weight.append(val)\n",
    "        next_text = random.choices(random_list, weights=random_weight)[0]\n",
    "        whole_word = whole_word + ' ' + next_text\n",
    "    return whole_word"
   ]
  },
  {
   "cell_type": "code",
   "execution_count": null,
   "metadata": {
    "collapsed": true
   },
   "outputs": [],
   "source": [
    "# 결과는?\n",
    "for _ in range(20):\n",
    "    print(make_sentence('마르코프'))"
   ]
  },
  {
   "cell_type": "code",
   "execution_count": null,
   "metadata": {
    "collapsed": true
   },
   "outputs": [],
   "source": [
    "# 이쯤되면 전이확률 행렬은 어떤 값이 나올지, 누구나 알 수 있을듯.\n",
    "import numpy as np\n",
    "x_list = np.array([0 for _ in range(len(transition[0]))])\n",
    "x_list[vocab_list.index('마르코프')]=1\n",
    "np_transition = np.array(transition)"
   ]
  },
  {
   "cell_type": "code",
   "execution_count": null,
   "metadata": {
    "collapsed": true
   },
   "outputs": [],
   "source": [
    "# 중요한 사실은 기준을 row로 잡았느냐, col 로 잡느냐 이다.\n",
    "# 어케 잡느냐에 따라서, 과거/미래 값이 나오게 되니까...!\n",
    "x_list_t = x_list.reshape(-1,1)\n",
    "temp = np_transition.transpose()"
   ]
  },
  {
   "cell_type": "code",
   "execution_count": null,
   "metadata": {
    "collapsed": true
   },
   "outputs": [],
   "source": [
    "next_p = np.matmul(temp,x_list_t)"
   ]
  },
  {
   "cell_type": "code",
   "execution_count": null,
   "metadata": {
    "collapsed": true
   },
   "outputs": [],
   "source": [
    "# 뭐가 나왔을까...!?\n",
    "for i,val in enumerate(next_p.flatten()):\n",
    "    if val>0:\n",
    "        print(list(morphs_dict.keys())[i],val)"
   ]
  }
 ],
 "metadata": {
  "kernelspec": {
   "display_name": "Python 3",
   "language": "python",
   "name": "python3"
  },
  "language_info": {
   "codemirror_mode": {
    "name": "ipython",
    "version": 3
   },
   "file_extension": ".py",
   "mimetype": "text/x-python",
   "name": "python",
   "nbconvert_exporter": "python",
   "pygments_lexer": "ipython3",
   "version": "3.6.1"
  }
 },
 "nbformat": 4,
 "nbformat_minor": 2
}

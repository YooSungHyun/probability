{
 "cells": [
  {
   "cell_type": "code",
   "execution_count": 1,
   "metadata": {
    "collapsed": true
   },
   "outputs": [],
   "source": [
    "import HMM_ysh"
   ]
  },
  {
   "cell_type": "code",
   "execution_count": 2,
   "metadata": {
    "collapsed": true
   },
   "outputs": [],
   "source": [
    "input_data = list()\n",
    "input_data.append((['hot','cold','hot'],[3,1,3]))\n",
    "input_data.append((['hot','hot','hot'],[3,3,3]))\n",
    "input_data.append((['hot','hot','hot'],[3,3,3]))\n",
    "input_data.append((['hot','hot','hot'],[3,3,3]))\n",
    "input_data.append((['hot','hot','hot'],[3,3,3]))\n",
    "input_data.append((['hot','hot','hot'],[3,3,3]))\n",
    "input_data.append((['hot','hot','hot'],[3,3,3]))\n",
    "input_data.append((['hot','hot','hot'],[3,3,3]))\n",
    "input_data.append((['hot','cold','hot'],[2,1,2]))\n",
    "input_data.append((['hot','cold','hot'],[1,1,3]))\n",
    "input_data.append((['hot','cold','cold'],[3,2,2]))\n",
    "input_data.append((['hot','cold','cold'],[2,1,2]))"
   ]
  },
  {
   "cell_type": "code",
   "execution_count": 3,
   "metadata": {},
   "outputs": [
    {
     "name": "stdout",
     "output_type": "stream",
     "text": [
      "init model==========\n",
      "hidden states : ['hot', 'cold']\n",
      "observation :  [1, 2, 3]\n",
      "start_transition_prob :  {'hot': 1.0, 'cold': 0.0}\n",
      "transition_prob :  defaultdict(<class 'dict'>, {'hot': {'hot': 0.8235294117647058, 'cold': 0.17647058823529413}, 'cold': {'hot': 0.7142857142857143, 'cold': 0.2857142857142857}})\n",
      "emission_prob :  defaultdict(<class 'dict'>, {1: {'hot': 0.2, 'cold': 0.8}, 2: {'hot': 0.5, 'cold': 0.5}, 3: {'hot': 1.0, 'cold': 0.0}})\n",
      "{'hot': 0.5064438754593208, 'cold': 0.4935561245406794}\n",
      "{'hot': 0.5000794530410831, 'cold': 0.49992054695891697}\n",
      "{'hot': 0.5000007864140005, 'cold': 0.4999992135859995}\n",
      "{'hot': 0.49999999718372706, 'cold': 0.500000002816273}\n",
      "trained model==========\n",
      "hidden states : ['hot', 'cold']\n",
      "observation :  [1, 2, 3]\n",
      "start_transition_prob :  {'hot': 0.49999999718372706, 'cold': 0.500000002816273}\n",
      "transition_prob :  defaultdict(<class 'dict'>, {'hot': {'hot': 0.49997576064554194, 'cold': 0.5000014162903146}, 'cold': {'hot': 0.500024239354458, 'cold': 0.4999985837096853}})\n",
      "emission_prob :  defaultdict(<class 'dict'>, {1: {'hot': 0.33333306290299036, 'cold': 0.3333336037554461}, 2: {'hot': 0.611110536133229, 'cold': 0.6111116860714946}, 3: {'hot': 0.05555640096378078, 'cold': 0.055554710173059296}})\n"
     ]
    },
    {
     "data": {
      "text/plain": [
       "0.0010288065844875664"
      ]
     },
     "execution_count": 3,
     "metadata": {},
     "output_type": "execute_result"
    }
   ],
   "source": [
    "test = HMM_ysh.train(input_data, smoothing=0.1)\n",
    "test.forward([3,1,3])[1]"
   ]
  },
  {
   "cell_type": "code",
   "execution_count": 4,
   "metadata": {},
   "outputs": [
    {
     "data": {
      "text/plain": [
       "0.0010288065844875664"
      ]
     },
     "execution_count": 4,
     "metadata": {},
     "output_type": "execute_result"
    }
   ],
   "source": [
    "test._backward([3,1,3])[1]"
   ]
  },
  {
   "cell_type": "code",
   "execution_count": 8,
   "metadata": {},
   "outputs": [
    {
     "name": "stdout",
     "output_type": "stream",
     "text": [
      "Viterbi Algo\n"
     ]
    }
   ],
   "source": [
    "viterbi, seq = test.decoding([3,1,3])"
   ]
  },
  {
   "cell_type": "code",
   "execution_count": 9,
   "metadata": {},
   "outputs": [
    {
     "data": {
      "text/plain": [
       "[('hot', 0.027778200325428402),\n",
       " ('cold', 0.00848820289562166),\n",
       " ('hot', 0.00023578766965123485)]"
      ]
     },
     "execution_count": 9,
     "metadata": {},
     "output_type": "execute_result"
    }
   ],
   "source": [
    "seq"
   ]
  }
 ],
 "metadata": {
  "kernelspec": {
   "display_name": "Python 3",
   "language": "python",
   "name": "python3"
  },
  "language_info": {
   "codemirror_mode": {
    "name": "ipython",
    "version": 3
   },
   "file_extension": ".py",
   "mimetype": "text/x-python",
   "name": "python",
   "nbconvert_exporter": "python",
   "pygments_lexer": "ipython3",
   "version": "3.6.1"
  }
 },
 "nbformat": 4,
 "nbformat_minor": 2
}

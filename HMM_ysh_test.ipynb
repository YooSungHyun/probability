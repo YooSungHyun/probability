{
 "cells": [
  {
   "cell_type": "code",
   "execution_count": 1,
   "metadata": {},
   "outputs": [],
   "source": [
    "import HMM_ysh"
   ]
  },
  {
   "cell_type": "code",
   "execution_count": 2,
   "metadata": {
    "collapsed": true
   },
   "outputs": [],
   "source": [
    "input_data = list()\n",
    "input_data.append((['hot','cold','hot'],[3,1,3]))\n",
    "input_data.append((['hot','hot','hot'],[3,3,3]))\n",
    "input_data.append((['hot','hot','hot'],[3,3,3]))\n",
    "input_data.append((['hot','hot','hot'],[3,3,3]))\n",
    "input_data.append((['hot','hot','hot'],[3,3,3]))\n",
    "input_data.append((['hot','hot','hot'],[3,3,3]))\n",
    "input_data.append((['hot','hot','hot'],[3,3,3]))\n",
    "input_data.append((['hot','hot','hot'],[3,3,3]))\n",
    "input_data.append((['hot','cold','hot'],[2,1,2]))\n",
    "input_data.append((['hot','cold','hot'],[1,1,3]))\n",
    "input_data.append((['hot','cold','cold'],[3,2,2]))\n",
    "input_data.append((['hot','cold','cold'],[2,1,2]))"
   ]
  },
  {
   "cell_type": "code",
   "execution_count": 3,
   "metadata": {},
   "outputs": [
    {
     "name": "stdout",
     "output_type": "stream",
     "text": [
      "init model==========\n",
      "hidden states : {'cold', 'hot'}\n",
      "observation :  {1, 2, 3}\n",
      "start_transition_prob :  {'cold': 0.0, 'hot': 1.0}\n",
      "transition_prob :  defaultdict(<class 'dict'>, {'cold': {'cold': 0.2857142857142857, 'hot': 0.7142857142857143}, 'hot': {'cold': 0.17647058823529413, 'hot': 0.8235294117647058}})\n",
      "emission_prob :  defaultdict(<class 'dict'>, {1: {'cold': 0.8, 'hot': 0.2}, 2: {'cold': 0.5, 'hot': 0.5}, 3: {'cold': 0.0, 'hot': 1.0}})\n",
      "{'cold': 0.4935561245406794, 'hot': 0.5064438754593208}\n",
      "{'cold': 0.49992054695891697, 'hot': 0.5000794530410831}\n",
      "{'cold': 0.4999992135859995, 'hot': 0.5000007864140006}\n",
      "{'cold': 0.5000000028162729, 'hot': 0.49999999718372723}\n",
      "trained model==========\n",
      "hidden states : {'cold', 'hot'}\n",
      "observation :  {1, 2, 3}\n",
      "start_transition_prob :  {'cold': 0.5000000028162729, 'hot': 0.49999999718372723}\n",
      "transition_prob :  defaultdict(<class 'dict'>, {'cold': {'cold': 0.49999858370968525, 'hot': 0.500024239354458}, 'hot': {'cold': 0.5000014162903147, 'hot': 0.49997576064554183}})\n",
      "emission_prob :  defaultdict(<class 'dict'>, {1: {'cold': 0.333333603755446, 'hot': 0.33333306290299036}, 2: {'cold': 0.6111116860714946, 'hot': 0.6111105361332287}, 3: {'cold': 0.055554710173059296, 'hot': 0.05555640096378077}})\n"
     ]
    },
    {
     "data": {
      "text/plain": [
       "0.0010288065844875662"
      ]
     },
     "execution_count": 3,
     "metadata": {},
     "output_type": "execute_result"
    }
   ],
   "source": [
    "test = HMM_ysh.train(input_data, smoothing=0.1)\n",
    "test.forward([3,1,3])[1]"
   ]
  }
 ],
 "metadata": {
  "kernelspec": {
   "display_name": "Python 3",
   "language": "python",
   "name": "python3"
  },
  "language_info": {
   "codemirror_mode": {
    "name": "ipython",
    "version": 3
   },
   "file_extension": ".py",
   "mimetype": "text/x-python",
   "name": "python",
   "nbconvert_exporter": "python",
   "pygments_lexer": "ipython3",
   "version": "3.6.1"
  }
 },
 "nbformat": 4,
 "nbformat_minor": 2
}

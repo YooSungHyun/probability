{
 "cells": [
  {
   "cell_type": "code",
   "execution_count": 1,
   "metadata": {
    "collapsed": true
   },
   "outputs": [],
   "source": [
    "import collections\n",
    "\n",
    "# data initialize\n",
    "transition_dict = collections.defaultdict(dict)\n",
    "transition_key = ['start','hot','cold','end']\n",
    "transition_arr = [[0.0, 0.8, 0.2, 0.0],[0.0, 0.6, 0.3, 0.1],[0.0, 0.4, 0.5, 0.1],[0.0, 0.0, 0.0, 0.0]]\n",
    "for i in range(len(transition_key)):\n",
    "    for j in range(len(transition_key)):\n",
    "        transition_dict[transition_key[j]][transition_key[i]]=transition_arr[i][j]\n",
    "\n",
    "emission_dict = collections.defaultdict(dict)\n",
    "emission_key = ['hot','cold']\n",
    "emission_arr = [[0.0,0.0],[0.2,0.5],[0.4,0.4],[0.4,0.1]]\n",
    "\n",
    "observation = [3,1,3]\n",
    "for i in range(len(emission_arr)):\n",
    "    for j in range(len(emission_key)):\n",
    "        emission_dict[i][emission_key[j]]=emission_arr[i][j]"
   ]
  },
  {
   "cell_type": "code",
   "execution_count": null,
   "metadata": {
    "collapsed": true
   },
   "outputs": [],
   "source": [
    "print(transition_dict['hot']['start'],emission_dict[3]['hot'],transition_dict['hot']['hot'],emission_dict[1]['hot'],transition_dict['cold']['hot'],emission_dict[3]['cold'])"
   ]
  },
  {
   "cell_type": "code",
   "execution_count": 2,
   "metadata": {
    "collapsed": true
   },
   "outputs": [],
   "source": [
    "def forward(start_keyword:str, transition_dict:collections.defaultdict(dict), emission_key:list, observation_list:list) -> collections.defaultdict(dict):\n",
    "    # dp[상태][관측값(T)]\n",
    "    dp = collections.defaultdict(dict)\n",
    "\n",
    "    # start로부터 첫번째 dp를 결정짓기 위함 (initialize)\n",
    "    for i in emission_key:\n",
    "        dp[i][0] = transition_dict[i][start_keyword]*emission_dict[observation_list[0]][i]\n",
    "\n",
    "\n",
    "    for observ in range(1,len(observation_list)):\n",
    "        for to_emi in emission_key:\n",
    "            dp[to_emi][observ]=0\n",
    "            for from_emi in emission_key:\n",
    "                # print(from_emi,to_emi)\n",
    "                dp[to_emi][observ] = (dp[from_emi][observ-1]*transition_dict[to_emi][from_emi]*emission_dict[observation_list[observ]][to_emi]) + dp[to_emi][observ]\n",
    "    \n",
    "    # end로의 전방확률구하기\n",
    "    # for i in emission_key:\n",
    "    #     dp[i][(list(dp[i].keys())[-1])+1] = transition_dict['end'][i]*dp[i][(list(dp[i].keys())[-1])]\n",
    "    return dp"
   ]
  },
  {
   "cell_type": "code",
   "execution_count": 3,
   "metadata": {},
   "outputs": [
    {
     "data": {
      "text/plain": [
       "defaultdict(dict,\n",
       "            {'cold': {0: 0.020000000000000004,\n",
       "              1: 0.053000000000000005,\n",
       "              2: 0.003850000000000001},\n",
       "             'hot': {0: 0.32000000000000006,\n",
       "              1: 0.04000000000000001,\n",
       "              2: 0.018080000000000006}})"
      ]
     },
     "execution_count": 3,
     "metadata": {},
     "output_type": "execute_result"
    }
   ],
   "source": [
    "forward('start',transition_dict,emission_key,observation)"
   ]
  }
 ],
 "metadata": {
  "kernelspec": {
   "display_name": "Python 3",
   "language": "python",
   "name": "python3"
  },
  "language_info": {
   "codemirror_mode": {
    "name": "ipython",
    "version": 3
   },
   "file_extension": ".py",
   "mimetype": "text/x-python",
   "name": "python",
   "nbconvert_exporter": "python",
   "pygments_lexer": "ipython3",
   "version": "3.6.1"
  }
 },
 "nbformat": 4,
 "nbformat_minor": 2
}

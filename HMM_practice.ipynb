{
 "cells": [
  {
   "cell_type": "code",
   "execution_count": 2,
   "metadata": {
    "collapsed": true
   },
   "outputs": [],
   "source": [
    "import collections\n",
    "\n",
    "# data initialize\n",
    "transition_dict = collections.defaultdict(dict)\n",
    "transition_key = ['start','hot','cold','end']\n",
    "transition_arr = [[0.0, 0.8, 0.2, 0.0],[0.0, 0.6, 0.3, 0.1],[0.0, 0.4, 0.5, 0.1],[0.0, 0.0, 0.0, 0.0]]\n",
    "for i in range(len(transition_key)):\n",
    "    for j in range(len(transition_key)):\n",
    "        transition_dict[transition_key[j]][transition_key[i]]=transition_arr[i][j]\n",
    "\n",
    "emission_dict = collections.defaultdict(dict)\n",
    "emission_key = ['hot','cold']\n",
    "emission_arr = [[0.0,0.0],[0.2,0.5],[0.4,0.4],[0.4,0.1]]\n",
    "\n",
    "observation = [3,1,3]\n",
    "for i in range(len(emission_arr)):\n",
    "    for j in range(len(emission_key)):\n",
    "        emission_dict[i][emission_key[j]]=emission_arr[i][j]"
   ]
  },
  {
   "cell_type": "code",
   "execution_count": 3,
   "metadata": {},
   "outputs": [
    {
     "name": "stdout",
     "output_type": "stream",
     "text": [
      "0.8 0.4 0.6 0.2 0.3 0.1\n"
     ]
    }
   ],
   "source": [
    "print(transition_dict['hot']['start'],emission_dict[3]['hot'],transition_dict['hot']['hot'],emission_dict[1]['hot'],transition_dict['cold']['hot'],emission_dict[3]['cold'])"
   ]
  },
  {
   "cell_type": "code",
   "execution_count": 4,
   "metadata": {
    "collapsed": true
   },
   "outputs": [],
   "source": [
    "def forward(start_keyword:str, transition_dict:collections.defaultdict(dict), emission_key:list, observation_list:list) -> (collections.defaultdict(dict), float):\n",
    "    # dp[상태][관측값(T)]\n",
    "    dp = collections.defaultdict(dict)\n",
    "    print('Forward Algo')\n",
    "    \n",
    "    # start로부터 첫번째 dp를 결정짓기 위함 (initialize)\n",
    "    for i in emission_key:\n",
    "        dp[i][0] = transition_dict[i][start_keyword]*emission_dict[observation_list[0]][i]\n",
    "\n",
    "\n",
    "    for observ in range(1,len(observation_list)):\n",
    "        for to_emi in emission_key:\n",
    "            dp[to_emi][observ]=0\n",
    "            for from_emi in emission_key:\n",
    "                # print(from_emi,to_emi)\n",
    "                print('전방('+from_emi+'|'+str(observ-1)+') * '+'전이('+to_emi+'|'+from_emi+') * '+'관측('+str(observation_list[observ])+'|'+from_emi+') '+ 'Target : '+'후방('+to_emi+'|'+str(observ)+')')\n",
    "                dp[to_emi][observ] = (dp[from_emi][observ-1]*transition_dict[to_emi][from_emi]*emission_dict[observation_list[observ]][to_emi]) + dp[to_emi][observ]\n",
    "\n",
    "    forward_prob = 0\n",
    "    for emi in emission_key:\n",
    "        forward_prob = dp[emi][len(observation_list)-1] + forward_prob\n",
    "    return dp, forward_prob"
   ]
  },
  {
   "cell_type": "code",
   "execution_count": 5,
   "metadata": {
    "collapsed": true
   },
   "outputs": [],
   "source": [
    "def backward(start_keyword:str, transition_dict:collections.defaultdict(dict), emission_key:list, observation_list:list) -> (collections.defaultdict(dict), float):\n",
    "    # dp[상태][관측값(T)]\n",
    "    dp = collections.defaultdict(dict)\n",
    "    print('Backward Algo')\n",
    "    for observ in range(len(observation_list)-1,-1,-1):\n",
    "        for to_emi in emission_key:\n",
    "            # END로는 무조건 끝이라는 1가지 경우의 수밖에 없으니, END로의 전이는 무조건 확률 1\n",
    "            if observ == len(observation_list)-1:\n",
    "                dp[to_emi][observ] = 1\n",
    "                continue\n",
    "            dp[to_emi][observ]=0\n",
    "            for from_emi in emission_key:\n",
    "                # print(from_emi,to_emi)\n",
    "                print('후방('+from_emi+'|'+str(observ+1)+') * '+'전이('+to_emi+'|'+from_emi+') * '+'관측('+str(observation_list[observ+1])+'|'+from_emi+') '+ 'Target : '+'후방('+to_emi+'|'+str(observ)+')')\n",
    "                dp[to_emi][observ] = (dp[from_emi][observ+1]*transition_dict[from_emi][to_emi]*emission_dict[observation_list[observ+1]][from_emi]) + dp[to_emi][observ]\n",
    "    \n",
    "    backward_prob = 0\n",
    "    for emi in emission_key:\n",
    "        backward_prob = dp[emi][0]*transition_dict[emi][start_keyword]*emission_dict[observation[0]][emi] + backward_prob\n",
    "\n",
    "    return dp, backward_prob"
   ]
  },
  {
   "cell_type": "code",
   "execution_count": 6,
   "metadata": {
    "collapsed": true
   },
   "outputs": [],
   "source": [
    "import collections\n",
    "from typing import Tuple\n",
    "\n",
    "def decoding(start_keyword:str, transition_dict:collections.defaultdict(dict), emission_key:list, observation_list:list) -> Tuple[list, list]:\n",
    "    # dp[상태][관측값(T)]\n",
    "    dp = list()\n",
    "    print('Viterbi Algo')\n",
    "    \n",
    "    # start로부터 첫번째 dp를 결정짓기 위함 (initialize)\n",
    "    tmp = list()\n",
    "    for i in emission_key:\n",
    "        dp.append([transition_dict[i][start_keyword]*emission_dict[observation_list[0]][i]])\n",
    "\n",
    "    for observ in range(1,len(observation_list)):\n",
    "        for to_emi in emission_key:\n",
    "            tmp = list()\n",
    "            for from_emi in emission_key:\n",
    "                tmp.append(dp[emission_key.index(from_emi)][observ-1]*transition_dict[to_emi][from_emi]*emission_dict[observation_list[observ]][to_emi])\n",
    "            dp[emission_key.index(to_emi)].append(max(tmp))\n",
    "\n",
    "    hidden_states_list = list()    \n",
    "    for i in zip(*dp):\n",
    "        hidden_states_list.append((emission_key[i.index(max(i))],max(i)))\n",
    "    return dp, hidden_states_list"
   ]
  },
  {
   "cell_type": "code",
   "execution_count": 7,
   "metadata": {},
   "outputs": [
    {
     "name": "stdout",
     "output_type": "stream",
     "text": [
      "Forward Algo\n",
      "전방(hot|0) * 전이(hot|hot) * 관측(1|hot) Target : 후방(hot|1)\n",
      "전방(cold|0) * 전이(hot|cold) * 관측(1|cold) Target : 후방(hot|1)\n",
      "전방(hot|0) * 전이(cold|hot) * 관측(1|hot) Target : 후방(cold|1)\n",
      "전방(cold|0) * 전이(cold|cold) * 관측(1|cold) Target : 후방(cold|1)\n",
      "전방(hot|1) * 전이(hot|hot) * 관측(3|hot) Target : 후방(hot|2)\n",
      "전방(cold|1) * 전이(hot|cold) * 관측(3|cold) Target : 후방(hot|2)\n",
      "전방(hot|1) * 전이(cold|hot) * 관측(3|hot) Target : 후방(cold|2)\n",
      "전방(cold|1) * 전이(cold|cold) * 관측(3|cold) Target : 후방(cold|2)\n",
      "Backward Algo\n",
      "후방(hot|2) * 전이(hot|hot) * 관측(3|hot) Target : 후방(hot|1)\n",
      "후방(cold|2) * 전이(hot|cold) * 관측(3|cold) Target : 후방(hot|1)\n",
      "후방(hot|2) * 전이(cold|hot) * 관측(3|hot) Target : 후방(cold|1)\n",
      "후방(cold|2) * 전이(cold|cold) * 관측(3|cold) Target : 후방(cold|1)\n",
      "후방(hot|1) * 전이(hot|hot) * 관측(1|hot) Target : 후방(hot|0)\n",
      "후방(cold|1) * 전이(hot|cold) * 관측(1|cold) Target : 후방(hot|0)\n",
      "후방(hot|1) * 전이(cold|hot) * 관측(1|hot) Target : 후방(cold|0)\n",
      "후방(cold|1) * 전이(cold|cold) * 관측(1|cold) Target : 후방(cold|0)\n",
      "Viterbi Algo\n"
     ]
    }
   ],
   "source": [
    "result_for, forward_prob = forward('start',transition_dict,emission_key,observation)\n",
    "result_back, backward_prob = backward('start',transition_dict,emission_key,observation)\n",
    "viterbi, hidden_seq = decoding('start',transition_dict,emission_key,observation)"
   ]
  },
  {
   "cell_type": "code",
   "execution_count": 8,
   "metadata": {},
   "outputs": [
    {
     "name": "stdout",
     "output_type": "stream",
     "text": [
      "3,1,3 개의 순서로 아이스크림을 먹을 확률(forward) : 0.021930000000000005\n",
      "3,1,3 개의 순서로 아이스크림을 먹을 확률(backward) : 0.02193000000000001\n",
      "3,1,3 개의 순서로 아이스크림을 먹을때 hidden states SEQ (viterbi decoding) : [('hot', 0.32000000000000006), ('cold', 0.04800000000000001), ('hot', 0.009216000000000002)]\n"
     ]
    }
   ],
   "source": [
    "print('3,1,3 개의 순서로 아이스크림을 먹을 확률(forward) :',forward_prob)\n",
    "print('3,1,3 개의 순서로 아이스크림을 먹을 확률(backward) :',backward_prob)\n",
    "print('3,1,3 개의 순서로 아이스크림을 먹을때 hidden states SEQ (viterbi decoding) :',hidden_seq)"
   ]
  }
 ],
 "metadata": {
  "kernelspec": {
   "display_name": "Python 3",
   "language": "python",
   "name": "python3"
  },
  "language_info": {
   "codemirror_mode": {
    "name": "ipython",
    "version": 3
   },
   "file_extension": ".py",
   "mimetype": "text/x-python",
   "name": "python",
   "nbconvert_exporter": "python",
   "pygments_lexer": "ipython3",
   "version": "3.6.1"
  }
 },
 "nbformat": 4,
 "nbformat_minor": 2
}
